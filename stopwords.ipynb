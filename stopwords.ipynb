{
 "cells": [
  {
   "cell_type": "code",
   "execution_count": 5,
   "metadata": {},
   "outputs": [],
   "source": [
    "tweet = \"\"\"Does this mean you can communicate with protein structures existing within the human genome? \n",
    "\n",
    "I’m not really sure what’s happening here, but it seems awesome and exciting! Can you maybe offer an idiots guide for someone like me Man shrugging? \n",
    "\n",
    "Please.\"\"\""
   ]
  },
  {
   "cell_type": "code",
   "execution_count": 6,
   "metadata": {
    "scrolled": true
   },
   "outputs": [
    {
     "data": {
      "text/plain": [
       "'Does this mean you can communicate with protein structures existing within the human genome? \\n\\nI’m not really sure what’s happening here, but it seems awesome and exciting! Can you maybe offer an idiots guide for someone like me Man shrugging? \\n\\nPlease.'"
      ]
     },
     "execution_count": 6,
     "metadata": {},
     "output_type": "execute_result"
    }
   ],
   "source": [
    "tweet"
   ]
  },
  {
   "cell_type": "code",
   "execution_count": 9,
   "metadata": {},
   "outputs": [
    {
     "name": "stderr",
     "output_type": "stream",
     "text": [
      "[nltk_data] Downloading package stopwords to\n",
      "[nltk_data]     C:\\Users\\hp\\AppData\\Roaming\\nltk_data...\n",
      "[nltk_data]   Unzipping corpora\\stopwords.zip.\n"
     ]
    },
    {
     "data": {
      "text/plain": [
       "True"
      ]
     },
     "execution_count": 9,
     "metadata": {},
     "output_type": "execute_result"
    }
   ],
   "source": [
    "import nltk\n",
    "nltk.download('stopwords')"
   ]
  },
  {
   "cell_type": "code",
   "execution_count": 10,
   "metadata": {},
   "outputs": [],
   "source": [
    "stop_words = stopwords.words('english')"
   ]
  },
  {
   "cell_type": "markdown",
   "metadata": {},
   "source": [
    "#### Stop words are words which do not make any sense in a sentence for a computer. They are just noice for the text inputs."
   ]
  },
  {
   "cell_type": "code",
   "execution_count": 14,
   "metadata": {},
   "outputs": [
    {
     "data": {
      "text/plain": [
       "['Does',\n",
       " 'this',\n",
       " 'mean',\n",
       " 'you',\n",
       " 'can',\n",
       " 'communicate',\n",
       " 'with',\n",
       " 'protein',\n",
       " 'structures',\n",
       " 'existing',\n",
       " 'within',\n",
       " 'the',\n",
       " 'human',\n",
       " 'genome?',\n",
       " 'I’m',\n",
       " 'not',\n",
       " 'really',\n",
       " 'sure',\n",
       " 'what’s',\n",
       " 'happening',\n",
       " 'here,',\n",
       " 'but',\n",
       " 'it',\n",
       " 'seems',\n",
       " 'awesome',\n",
       " 'and',\n",
       " 'exciting!',\n",
       " 'Can',\n",
       " 'you',\n",
       " 'maybe',\n",
       " 'offer',\n",
       " 'an',\n",
       " 'idiots',\n",
       " 'guide',\n",
       " 'for',\n",
       " 'someone',\n",
       " 'like',\n",
       " 'me',\n",
       " 'Man',\n",
       " 'shrugging?',\n",
       " 'Please.']"
      ]
     },
     "execution_count": 14,
     "metadata": {},
     "output_type": "execute_result"
    }
   ],
   "source": [
    "stop_words = set(stop_words)\n",
    "tweet = tweet.split()\n",
    "tweet"
   ]
  },
  {
   "cell_type": "code",
   "execution_count": 15,
   "metadata": {},
   "outputs": [],
   "source": [
    "tweet_without_stopwords = [word for word in tweet if word not in stop_words]"
   ]
  },
  {
   "cell_type": "code",
   "execution_count": 18,
   "metadata": {},
   "outputs": [
    {
     "data": {
      "text/plain": [
       "'Does mean communicate protein structures existing within human genome? I’m really sure what’s happening here, seems awesome exciting! Can maybe offer idiots guide someone like Man shrugging? Please.'"
      ]
     },
     "execution_count": 18,
     "metadata": {},
     "output_type": "execute_result"
    }
   ],
   "source": [
    "(' ').join(tweet_without_stopwords)"
   ]
  },
  {
   "cell_type": "code",
   "execution_count": null,
   "metadata": {},
   "outputs": [],
   "source": []
  }
 ],
 "metadata": {
  "kernelspec": {
   "display_name": "Python 3",
   "language": "python",
   "name": "python3"
  },
  "language_info": {
   "codemirror_mode": {
    "name": "ipython",
    "version": 3
   },
   "file_extension": ".py",
   "mimetype": "text/x-python",
   "name": "python",
   "nbconvert_exporter": "python",
   "pygments_lexer": "ipython3",
   "version": "3.8.5"
  }
 },
 "nbformat": 4,
 "nbformat_minor": 4
}
